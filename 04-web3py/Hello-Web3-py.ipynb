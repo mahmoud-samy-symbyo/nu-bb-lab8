{
 "cells": [
  {
   "cell_type": "markdown",
   "metadata": {},
   "source": [
    "# Using web3 interface to make transactions on ehtereum network\n",
    "\n",
    "##  A. Setting Up A Private Ethereum Network :\n",
    "- There is an ethereum client instance launched with the following configuration \n",
    "\n",
    "\n",
    "\n",
    "### Step 0: Parametrize our scripts with PEER name and PORT number\n",
    "```\n",
    "export PEER=eth-peer-1\n",
    "export PORT=30301\n",
    "export RPC_PORT=8545\n",
    "\n",
    "```\n",
    "\n",
    "### Step1: Create a chain, with a network id in a specific data dir (run once per peer)\n",
    "```\n",
    "geth --datadir ./${PEER} init ./genesis.json\n",
    "\n",
    "```\n",
    "\n",
    "### Step2: Run the ethereum client\n",
    "\n",
    "- provide a json-rpc api\n",
    "- control which management api are allowed\n",
    "- run the json-rpc api from a certain port\n",
    "\n",
    "```\n",
    "geth --rpc \\\n",
    "    --rpccorsdomain \"*\" \\\n",
    "    --rpcapi db,eth,net,web3,personal,web3,miner  \\\n",
    "    --rpcport ${RPC_PORT} \\\n",
    "    --datadir ./${PEER}\\\n",
    "    --nodiscover \\\n",
    "    --identity ${PEER}\\\n",
    "    --networkid 1114 \\\n",
    "    --port ${PORT}\n",
    "```\n",
    "\n",
    "### Step3: Repeat for other peers\n",
    "```\n",
    "export PEER=eth-peer-2\n",
    "export PORT=30302\n",
    "export RPC_PORT=8546\n",
    "```\n",
    "\n",
    "##  B. Installing dev tools needed\n",
    "- We assuume that the web3 for python library is instlled using\n",
    "```\n",
    "pip install web3\n",
    "```\n",
    "- We assume that the solidity compiler solc is installed and is available on the path, instuctions could be found here: http://solidity.readthedocs.io/en/develop/installing-solidity.html"
   ]
  },
  {
   "cell_type": "code",
   "execution_count": null,
   "metadata": {},
   "outputs": [],
   "source": [
    "!pip install web3"
   ]
  },
  {
   "cell_type": "code",
   "execution_count": 6,
   "metadata": {},
   "outputs": [],
   "source": [
    "import web3\n",
    "from web3 import Web3, HTTPProvider, IPCProvider\n",
    "from pprint import pprint\n"
   ]
  },
  {
   "cell_type": "code",
   "execution_count": 24,
   "metadata": {},
   "outputs": [],
   "source": [
    "w3 = Web3(HTTPProvider(\"http://127.0.0.1:8546\"))\n",
    "#w3 = Web3(IPCProvider(\"/Users/sameh/tst/privnet/eth-peer-2/geth.ipc\"))"
   ]
  },
  {
   "cell_type": "code",
   "execution_count": 25,
   "metadata": {},
   "outputs": [
    {
     "name": "stdout",
     "output_type": "stream",
     "text": [
      "['0xFd83Ee45f480d3b6698feECaD9F744DCbb160dbb',\n",
      " '0xe3B3D514Beca8637F54a5016dB6c68bC75A2f3ec']\n"
     ]
    }
   ],
   "source": [
    "accounts = w3.eth.accounts\n",
    "pprint(accounts)"
   ]
  },
  {
   "cell_type": "code",
   "execution_count": 26,
   "metadata": {},
   "outputs": [
    {
     "data": {
      "text/plain": [
       "'0xe3B3D514Beca8637F54a5016dB6c68bC75A2f3ec'"
      ]
     },
     "execution_count": 26,
     "metadata": {},
     "output_type": "execute_result"
    }
   ],
   "source": [
    "w3.eth.coinbase"
   ]
  },
  {
   "cell_type": "code",
   "execution_count": 44,
   "metadata": {},
   "outputs": [
    {
     "name": "stdout",
     "output_type": "stream",
     "text": [
      "0xFd83Ee45f480d3b6698feECaD9F744DCbb160dbb : 29.9988659999999745 ETH\n",
      "0xe3B3D514Beca8637F54a5016dB6c68bC75A2f3ec : 30.0011340000000255 ETH\n"
     ]
    }
   ],
   "source": [
    "import time\n",
    "def mine3alaKhafeif():\n",
    "    print(\"Blocks Before:{}\".format(w3.eth.blockNumber))\n",
    "    w3.miner.start(8)\n",
    "    time.sleep(1)\n",
    "    w3.miner.stop()\n",
    "    print(\"Blocks After:{}\".format(w3.eth.blockNumber))\n",
    "\n",
    "def getAllBalances():\n",
    "    accounts = w3.eth.accounts\n",
    "    for account in accounts:\n",
    "        balance = w3.eth.getBalance(account)\n",
    "        print(\"{} : {} ETH\".format(account, w3.fromWei(balance, \"ether\")))\n",
    "\n",
    "getAllBalances()"
   ]
  },
  {
   "cell_type": "code",
   "execution_count": 33,
   "metadata": {},
   "outputs": [
    {
     "data": {
      "text/plain": [
       "True"
      ]
     },
     "execution_count": 33,
     "metadata": {},
     "output_type": "execute_result"
    }
   ],
   "source": [
    "w3.personal.unlockAccount(accounts[0], 'foobar')"
   ]
  },
  {
   "cell_type": "code",
   "execution_count": 38,
   "metadata": {},
   "outputs": [
    {
     "data": {
      "text/plain": [
       "'0x4044541aa6b27ae4f8a11536f8dc1a8a39ad1fef4bb568470e1060062690b616'"
      ]
     },
     "execution_count": 38,
     "metadata": {},
     "output_type": "execute_result"
    }
   ],
   "source": [
    "w3.eth.sendTransaction(transaction={'to': accounts[1], 'from': accounts[0], 'value': 8500})"
   ]
  },
  {
   "cell_type": "code",
   "execution_count": 42,
   "metadata": {},
   "outputs": [
    {
     "data": {
      "text/plain": [
       "'0x881ee18f0c9c50964ef2b8c332c3ecd923b8ff85407d888f727f18f06bb652e0'"
      ]
     },
     "execution_count": 42,
     "metadata": {},
     "output_type": "execute_result"
    }
   ],
   "source": [
    "w3.personal.sendTransaction(transaction={'to': accounts[1], 'from': accounts[0], 'value': 8500}, passphrase='foobar')"
   ]
  },
  {
   "cell_type": "code",
   "execution_count": 43,
   "metadata": {},
   "outputs": [
    {
     "name": "stdout",
     "output_type": "stream",
     "text": [
      "Blocks Before:18\n",
      "Blocks After:20\n"
     ]
    }
   ],
   "source": [
    "mine3alaKhafeif()"
   ]
  },
  {
   "cell_type": "code",
   "execution_count": null,
   "metadata": {},
   "outputs": [],
   "source": []
  },
  {
   "cell_type": "code",
   "execution_count": null,
   "metadata": {},
   "outputs": [],
   "source": []
  }
 ],
 "metadata": {
  "kernelspec": {
   "display_name": "Python 3",
   "language": "python",
   "name": "python3"
  },
  "language_info": {
   "codemirror_mode": {
    "name": "ipython",
    "version": 3
   },
   "file_extension": ".py",
   "mimetype": "text/x-python",
   "name": "python",
   "nbconvert_exporter": "python",
   "pygments_lexer": "ipython3",
   "version": "3.6.3"
  }
 },
 "nbformat": 4,
 "nbformat_minor": 2
}
